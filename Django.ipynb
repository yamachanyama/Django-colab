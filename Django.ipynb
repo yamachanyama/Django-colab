{
  "nbformat": 4,
  "nbformat_minor": 0,
  "metadata": {
    "colab": {
      "provenance": [],
      "authorship_tag": "ABX9TyOrdOmZIMTWYn2tV5LATM0F",
      "include_colab_link": true
    },
    "kernelspec": {
      "name": "python3",
      "display_name": "Python 3"
    },
    "language_info": {
      "name": "python"
    }
  },
  "cells": [
    {
      "cell_type": "markdown",
      "metadata": {
        "id": "view-in-github",
        "colab_type": "text"
      },
      "source": [
        "<a href=\"https://colab.research.google.com/github/yamachanyama/Django-colab/blob/main/Django.ipynb\" target=\"_parent\"><img src=\"https://colab.research.google.com/assets/colab-badge.svg\" alt=\"Open In Colab\"/></a>"
      ]
    },
    {
      "cell_type": "code",
      "execution_count": 1,
      "metadata": {
        "colab": {
          "base_uri": "https://localhost:8080/"
        },
        "id": "VoynHfCVzZVp",
        "outputId": "d830dfc5-6fd7-4b0a-a6a4-529979c08a11"
      },
      "outputs": [
        {
          "output_type": "stream",
          "name": "stdout",
          "text": [
            "Looking in indexes: https://pypi.org/simple, https://us-python.pkg.dev/colab-wheels/public/simple/\n",
            "Collecting django\n",
            "  Downloading Django-3.2.16-py3-none-any.whl (7.9 MB)\n",
            "\u001b[K     |████████████████████████████████| 7.9 MB 4.1 MB/s \n",
            "\u001b[?25hRequirement already satisfied: pytz in /usr/local/lib/python3.7/dist-packages (from django) (2022.4)\n",
            "Collecting asgiref<4,>=3.3.2\n",
            "  Downloading asgiref-3.5.2-py3-none-any.whl (22 kB)\n",
            "Requirement already satisfied: sqlparse>=0.2.2 in /usr/local/lib/python3.7/dist-packages (from django) (0.4.3)\n",
            "Requirement already satisfied: typing-extensions in /usr/local/lib/python3.7/dist-packages (from asgiref<4,>=3.3.2->django) (4.1.1)\n",
            "Installing collected packages: asgiref, django\n",
            "Successfully installed asgiref-3.5.2 django-3.2.16\n"
          ]
        }
      ],
      "source": [
        "!pip install django"
      ]
    },
    {
      "cell_type": "code",
      "source": [
        "!django-admin startproject portfolio"
      ],
      "metadata": {
        "id": "ZUnefqf3zslR"
      },
      "execution_count": 2,
      "outputs": []
    },
    {
      "cell_type": "code",
      "source": [
        "!ls"
      ],
      "metadata": {
        "colab": {
          "base_uri": "https://localhost:8080/"
        },
        "id": "42yno9s8zv-3",
        "outputId": "3adc711f-c2a1-4b7e-faec-c5fcfb266035"
      },
      "execution_count": 3,
      "outputs": [
        {
          "output_type": "stream",
          "name": "stdout",
          "text": [
            "portfolio  sample_data\n"
          ]
        }
      ]
    },
    {
      "cell_type": "code",
      "source": [
        "%cd portfolio/"
      ],
      "metadata": {
        "colab": {
          "base_uri": "https://localhost:8080/"
        },
        "id": "dJmELnnrz0aW",
        "outputId": "f9094ace-26c1-46d4-d2f2-1375dbb88924"
      },
      "execution_count": 13,
      "outputs": [
        {
          "output_type": "stream",
          "name": "stdout",
          "text": [
            "/content/portfolio/portfolio\n"
          ]
        }
      ]
    },
    {
      "cell_type": "code",
      "source": [
        "from google.colab.output import eval_js\n",
        "print(eval_js(\"google.colab.kernel.proxyPort(8000)\"))"
      ],
      "metadata": {
        "colab": {
          "base_uri": "https://localhost:8080/",
          "height": 35
        },
        "id": "yb5ifby7z5jZ",
        "outputId": "db450bd5-d635-4a35-fcfa-98e11a45318a"
      },
      "execution_count": 14,
      "outputs": [
        {
          "output_type": "stream",
          "name": "stdout",
          "text": [
            "https://257vev7sn31-496ff2e9c6d22116-8000-colab.googleusercontent.com/\n"
          ]
        }
      ]
    },
    {
      "cell_type": "code",
      "source": [
        "ALLOWED_HOSTS = ['colab.research.google.com']"
      ],
      "metadata": {
        "id": "dy5DpRR9z_Dx"
      },
      "execution_count": 15,
      "outputs": []
    },
    {
      "cell_type": "code",
      "source": [
        "!python manage.py migrate"
      ],
      "metadata": {
        "colab": {
          "base_uri": "https://localhost:8080/"
        },
        "id": "mITE2XS70Vf-",
        "outputId": "41325c92-6ee0-4264-8591-8d62ad603658"
      },
      "execution_count": 10,
      "outputs": [
        {
          "output_type": "stream",
          "name": "stdout",
          "text": [
            "\u001b[36;1mOperations to perform:\u001b[0m\n",
            "\u001b[1m  Apply all migrations: \u001b[0madmin, auth, contenttypes, sessions\n",
            "\u001b[36;1mRunning migrations:\u001b[0m\n",
            "  Applying contenttypes.0001_initial...\u001b[32;1m OK\u001b[0m\n",
            "  Applying auth.0001_initial...\u001b[32;1m OK\u001b[0m\n",
            "  Applying admin.0001_initial...\u001b[32;1m OK\u001b[0m\n",
            "  Applying admin.0002_logentry_remove_auto_add...\u001b[32;1m OK\u001b[0m\n",
            "  Applying admin.0003_logentry_add_action_flag_choices...\u001b[32;1m OK\u001b[0m\n",
            "  Applying contenttypes.0002_remove_content_type_name...\u001b[32;1m OK\u001b[0m\n",
            "  Applying auth.0002_alter_permission_name_max_length...\u001b[32;1m OK\u001b[0m\n",
            "  Applying auth.0003_alter_user_email_max_length...\u001b[32;1m OK\u001b[0m\n",
            "  Applying auth.0004_alter_user_username_opts...\u001b[32;1m OK\u001b[0m\n",
            "  Applying auth.0005_alter_user_last_login_null...\u001b[32;1m OK\u001b[0m\n",
            "  Applying auth.0006_require_contenttypes_0002...\u001b[32;1m OK\u001b[0m\n",
            "  Applying auth.0007_alter_validators_add_error_messages...\u001b[32;1m OK\u001b[0m\n",
            "  Applying auth.0008_alter_user_username_max_length...\u001b[32;1m OK\u001b[0m\n",
            "  Applying auth.0009_alter_user_last_name_max_length...\u001b[32;1m OK\u001b[0m\n",
            "  Applying auth.0010_alter_group_name_max_length...\u001b[32;1m OK\u001b[0m\n",
            "  Applying auth.0011_update_proxy_permissions...\u001b[32;1m OK\u001b[0m\n",
            "  Applying auth.0012_alter_user_first_name_max_length...\u001b[32;1m OK\u001b[0m\n",
            "  Applying sessions.0001_initial...\u001b[32;1m OK\u001b[0m\n"
          ]
        }
      ]
    },
    {
      "cell_type": "code",
      "source": [
        "!python manage.py runserver 8000"
      ],
      "metadata": {
        "colab": {
          "base_uri": "https://localhost:8080/"
        },
        "id": "_8nF-w2Y0C3R",
        "outputId": "b12f469a-fc8c-43a6-a0c1-5af115ac3596"
      },
      "execution_count": 16,
      "outputs": [
        {
          "output_type": "stream",
          "name": "stdout",
          "text": [
            "python3: can't open file 'manage.py': [Errno 2] No such file or directory\n"
          ]
        }
      ]
    }
  ]
}